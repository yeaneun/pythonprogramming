{
 "cells": [
  {
   "cell_type": "code",
   "execution_count": 4,
   "id": "98f58382-7c47-4673-9f5b-befbf4d922c5",
   "metadata": {},
   "outputs": [
    {
     "data": {
      "text/plain": [
       "'P'"
      ]
     },
     "execution_count": 4,
     "metadata": {},
     "output_type": "execute_result"
    }
   ],
   "source": []
  },
  {
   "cell_type": "code",
   "execution_count": 5,
   "id": "86d8c8b8-301b-4c0b-86ed-f3f7005ec1b2",
   "metadata": {},
   "outputs": [],
   "source": [
    "a ='581273'\n",
    "b = 581273"
   ]
  },
  {
   "cell_type": "code",
   "execution_count": 6,
   "id": "cf0f8493-8e88-4503-8040-ee4bbbaf6e78",
   "metadata": {},
   "outputs": [
    {
     "name": "stdout",
     "output_type": "stream",
     "text": [
      "581273 581273\n"
     ]
    }
   ],
   "source": [
    "print('581273', 581273)"
   ]
  },
  {
   "cell_type": "code",
   "execution_count": 7,
   "id": "8eab8598-18a6-4fab-b542-110e0729c9b2",
   "metadata": {},
   "outputs": [
    {
     "data": {
      "text/plain": [
       "str"
      ]
     },
     "execution_count": 7,
     "metadata": {},
     "output_type": "execute_result"
    }
   ],
   "source": [
    "type(a)"
   ]
  },
  {
   "cell_type": "code",
   "execution_count": 8,
   "id": "a1c26e48-eb5d-41f9-be8a-dbdd4a85be0b",
   "metadata": {},
   "outputs": [
    {
     "data": {
      "text/plain": [
       "int"
      ]
     },
     "execution_count": 8,
     "metadata": {},
     "output_type": "execute_result"
    }
   ],
   "source": [
    "type(b)"
   ]
  },
  {
   "cell_type": "code",
   "execution_count": 9,
   "id": "5c6b8b14-04a9-4471-828c-6e9b93bcc381",
   "metadata": {},
   "outputs": [
    {
     "data": {
      "text/plain": [
       "float"
      ]
     },
     "execution_count": 9,
     "metadata": {},
     "output_type": "execute_result"
    }
   ],
   "source": [
    "a =1.234\n",
    "type(a)"
   ]
  },
  {
   "cell_type": "code",
   "execution_count": 14,
   "id": "9c7c5d8c-af55-4c74-8445-091120909d98",
   "metadata": {},
   "outputs": [
    {
     "name": "stdout",
     "output_type": "stream",
     "text": [
      "apple orange\n"
     ]
    }
   ],
   "source": [
    "#p.33\n",
    "# +* str\n",
    "\n",
    "a= 'apple'\n",
    "b = 'orange'\n",
    "\n",
    "print(a,b)"
   ]
  },
  {
   "cell_type": "code",
   "execution_count": 11,
   "id": "947c394d-9e28-442f-8f0d-40ac1bcdc481",
   "metadata": {},
   "outputs": [
    {
     "data": {
      "text/plain": [
       "('apple', 'orange')"
      ]
     },
     "execution_count": 11,
     "metadata": {},
     "output_type": "execute_result"
    }
   ],
   "source": [
    "a,b\n"
   ]
  },
  {
   "cell_type": "code",
   "execution_count": 12,
   "id": "fb77088b-c8c8-4121-a026-3dcc04bf5ebe",
   "metadata": {},
   "outputs": [
    {
     "name": "stdout",
     "output_type": "stream",
     "text": [
      "aaabbb\n"
     ]
    }
   ],
   "source": [
    "print('aaa' 'bbb')"
   ]
  },
  {
   "cell_type": "code",
   "execution_count": 15,
   "id": "e6fa0dd3-dfbe-4792-aab5-f499cbfaa1e6",
   "metadata": {},
   "outputs": [
    {
     "data": {
      "text/plain": [
       "'appleappleappleappleapple'"
      ]
     },
     "execution_count": 15,
     "metadata": {},
     "output_type": "execute_result"
    }
   ],
   "source": [
    "a*5"
   ]
  },
  {
   "cell_type": "code",
   "execution_count": 17,
   "id": "a53ce36e-b0b1-47be-b44c-39cc17e719d6",
   "metadata": {},
   "outputs": [
    {
     "name": "stdout",
     "output_type": "stream",
     "text": [
      "\n",
      "daasdfafdaffffffffdfsa\n"
     ]
    }
   ],
   "source": [
    "'''이 부분은 주석 처리용 텍스트를 연습하는 부분입니다.'''\n",
    "a ='''\n",
    "daasdfafdaffffffffdfsa'''\n",
    "print(a) #이런식으로도 주석 가능"
   ]
  },
  {
   "cell_type": "code",
   "execution_count": 19,
   "id": "1b218e2f-8193-4194-85b7-a9c018374a52",
   "metadata": {},
   "outputs": [
    {
     "data": {
      "text/plain": [
       "(2.3, 4.5, 6.1)"
      ]
     },
     "execution_count": 19,
     "metadata": {},
     "output_type": "execute_result"
    }
   ],
   "source": [
    "3, 4, 5\n",
    "2.3, 4.5, 6.1"
   ]
  },
  {
   "cell_type": "code",
   "execution_count": 20,
   "id": "f98d75b5-f7e9-409e-9795-fee80d5ced3a",
   "metadata": {},
   "outputs": [
    {
     "data": {
      "text/plain": [
       "True"
      ]
     },
     "execution_count": 20,
     "metadata": {},
     "output_type": "execute_result"
    }
   ],
   "source": [
    "52e10 == 52*10**10"
   ]
  },
  {
   "cell_type": "code",
   "execution_count": 21,
   "id": "5d05a4f0-08ad-4404-84fa-bee6df1aa57d",
   "metadata": {},
   "outputs": [
    {
     "data": {
      "text/plain": [
       "52000000"
      ]
     },
     "execution_count": 21,
     "metadata": {},
     "output_type": "execute_result"
    }
   ],
   "source": [
    " 52_000_000"
   ]
  },
  {
   "cell_type": "code",
   "execution_count": 23,
   "id": "c4d37e13-f2a2-42ec-9bd8-9f39ec45c52b",
   "metadata": {},
   "outputs": [
    {
     "name": "stdout",
     "output_type": "stream",
     "text": [
      "52000000 52000000.0 52000000.0\n"
     ]
    }
   ],
   "source": [
    "print(52_000_000, 5.2*10**7, 5.2e7)"
   ]
  },
  {
   "cell_type": "code",
   "execution_count": 26,
   "id": "230852bc-1e0e-4c85-916c-69bfc14e38b3",
   "metadata": {},
   "outputs": [
    {
     "data": {
      "text/plain": [
       "3.0"
      ]
     },
     "execution_count": 26,
     "metadata": {},
     "output_type": "execute_result"
    }
   ],
   "source": [
    "3 + 4j.real"
   ]
  },
  {
   "cell_type": "code",
   "execution_count": 27,
   "id": "964af022-b914-4b47-b012-3fa79780a509",
   "metadata": {},
   "outputs": [],
   "source": [
    "#((x1-x2)^2 + (y1-y2)^2)^1/2"
   ]
  },
  {
   "cell_type": "code",
   "execution_count": 29,
   "id": "2502db89-c10b-4a37-9cea-c1699840cf96",
   "metadata": {},
   "outputs": [
    {
     "name": "stdout",
     "output_type": "stream",
     "text": [
      "3.1622776601683795\n"
     ]
    }
   ],
   "source": [
    "x1 = 5\n",
    "x2 = 2\n",
    "y1 = 3\n",
    "y2 = 4\n",
    "print(((x1-x2)**2 + (y1- y2)**2)**0.5)"
   ]
  },
  {
   "cell_type": "code",
   "execution_count": 32,
   "id": "acd2c5e4-fae4-413e-b589-1758b58d1898",
   "metadata": {},
   "outputs": [
    {
     "name": "stdin",
     "output_type": "stream",
     "text": [
      "금액을 입력하세요 25900\n"
     ]
    },
    {
     "name": "stdout",
     "output_type": "stream",
     "text": [
      "오만원권: 0\n",
      "만 원권: 2\n",
      "오천 원권: 2\n"
     ]
    }
   ],
   "source": [
    "#42page\n",
    "\n",
    "amount = int(input('금액을 입력하세요'))\n",
    "\n",
    "print('오만원권:' ,amount // 50000)\n",
    "amount %= 50000\n",
    "\n",
    "print('만 원권:', amount //10000)\n",
    "amount %= 10000\n",
    "\n",
    "print('오천 원권:' , amount // 5000 +1)\n",
    "\n",
    " \n"
   ]
  },
  {
   "cell_type": "code",
   "execution_count": 35,
   "id": "ddbf3bbe-3fa7-404f-91df-239776a11363",
   "metadata": {},
   "outputs": [
    {
     "name": "stdout",
     "output_type": "stream",
     "text": [
      "aaa\n",
      "bbb\n",
      "543\n",
      "5.23\n"
     ]
    }
   ],
   "source": [
    "print('aaa', 'bbb', 543, 5.23, sep='\\n')"
   ]
  },
  {
   "cell_type": "code",
   "execution_count": 36,
   "id": "53b77ccb-144d-4831-878e-c67388551696",
   "metadata": {},
   "outputs": [
    {
     "name": "stdout",
     "output_type": "stream",
     "text": [
      "<class 'int'> <class 'str'> <class 'str'> <class 'float'>\n"
     ]
    }
   ],
   "source": [
    "# int float str\n",
    "\n",
    "#type casting\n",
    "\n",
    "a = 5\n",
    "b = 'test'\n",
    "c = '123'\n",
    "d = 3.14\n",
    "\n",
    "print(type(a), type(b), type(c), type(d))"
   ]
  },
  {
   "cell_type": "code",
   "execution_count": 37,
   "id": "f9550f9d-afc6-4ebe-9cb9-ee953a002650",
   "metadata": {},
   "outputs": [
    {
     "data": {
      "text/plain": [
       "'123123123123123'"
      ]
     },
     "execution_count": 37,
     "metadata": {},
     "output_type": "execute_result"
    }
   ],
   "source": [
    "'123123123123123'"
   ]
  },
  {
   "cell_type": "code",
   "execution_count": 38,
   "id": "2a79d855-3bb7-4c68-8ee9-edb827b82d6c",
   "metadata": {},
   "outputs": [
    {
     "data": {
      "text/plain": [
       "'123123123123123'"
      ]
     },
     "execution_count": 38,
     "metadata": {},
     "output_type": "execute_result"
    }
   ],
   "source": [
    "c*a"
   ]
  },
  {
   "cell_type": "code",
   "execution_count": 39,
   "id": "2177da46-2d92-4083-97c4-165c964125c8",
   "metadata": {},
   "outputs": [
    {
     "data": {
      "text/plain": [
       "615"
      ]
     },
     "execution_count": 39,
     "metadata": {},
     "output_type": "execute_result"
    }
   ],
   "source": [
    "int(c) * a\n"
   ]
  },
  {
   "cell_type": "code",
   "execution_count": 40,
   "id": "2f847448-ef72-47f4-af01-ad1ec336ec04",
   "metadata": {},
   "outputs": [
    {
     "ename": "ValueError",
     "evalue": "invalid literal for int() with base 10: 'test'",
     "output_type": "error",
     "traceback": [
      "\u001b[1;31m---------------------------------------------------------------------------\u001b[0m",
      "\u001b[1;31mValueError\u001b[0m                                Traceback (most recent call last)",
      "\u001b[1;32m~\\AppData\\Local\\Temp/ipykernel_19940/3956108814.py\u001b[0m in \u001b[0;36m<module>\u001b[1;34m\u001b[0m\n\u001b[1;32m----> 1\u001b[1;33m \u001b[0mint\u001b[0m\u001b[1;33m(\u001b[0m\u001b[0mb\u001b[0m\u001b[1;33m)\u001b[0m\u001b[1;33m\u001b[0m\u001b[1;33m\u001b[0m\u001b[0m\n\u001b[0m",
      "\u001b[1;31mValueError\u001b[0m: invalid literal for int() with base 10: 'test'"
     ]
    }
   ],
   "source": [
    "int(b) #수치형으로 바뀔수 있는지 확인이 필요함"
   ]
  },
  {
   "cell_type": "code",
   "execution_count": 41,
   "id": "9837efee-4dc8-4c32-a978-d17b2242143c",
   "metadata": {},
   "outputs": [
    {
     "ename": "IndentationError",
     "evalue": "unexpected indent (Temp/ipykernel_19940/3752862346.py, line 4)",
     "output_type": "error",
     "traceback": [
      "\u001b[1;36m  File \u001b[1;32m\"C:\\Users\\user\\AppData\\Local\\Temp/ipykernel_19940/3752862346.py\"\u001b[1;36m, line \u001b[1;32m4\u001b[0m\n\u001b[1;33m    test1 = 5\u001b[0m\n\u001b[1;37m    ^\u001b[0m\n\u001b[1;31mIndentationError\u001b[0m\u001b[1;31m:\u001b[0m unexpected indent\n"
     ]
    }
   ],
   "source": [
    "#변수의 이름\n",
    "# 대소문자를 구분한다, 숫자를 쓸 수 있다, _도 쓸수 있다. 다만, 숫자로 시작하면 안된다.\n",
    "\n",
    " test1 = 5"
   ]
  },
  {
   "cell_type": "code",
   "execution_count": 42,
   "id": "378cd173-e130-4842-8fed-ee2b1e486e42",
   "metadata": {},
   "outputs": [
    {
     "ename": "SyntaxError",
     "evalue": "invalid syntax (Temp/ipykernel_19940/809710740.py, line 1)",
     "output_type": "error",
     "traceback": [
      "\u001b[1;36m  File \u001b[1;32m\"C:\\Users\\user\\AppData\\Local\\Temp/ipykernel_19940/809710740.py\"\u001b[1;36m, line \u001b[1;32m1\u001b[0m\n\u001b[1;33m    1test = 5\u001b[0m\n\u001b[1;37m     ^\u001b[0m\n\u001b[1;31mSyntaxError\u001b[0m\u001b[1;31m:\u001b[0m invalid syntax\n"
     ]
    }
   ],
   "source": [
    "1test = 5"
   ]
  },
  {
   "cell_type": "code",
   "execution_count": 43,
   "id": "4e8bb225-e8e3-4d41-8a12-beae1e088426",
   "metadata": {},
   "outputs": [],
   "source": [
    "test_number = 1\n",
    "testnumber = 2"
   ]
  },
  {
   "cell_type": "code",
   "execution_count": 46,
   "id": "570766b2-9a16-4e0e-bec4-1dad60e643d4",
   "metadata": {},
   "outputs": [
    {
     "data": {
      "text/plain": [
       "8"
      ]
     },
     "execution_count": 46,
     "metadata": {},
     "output_type": "execute_result"
    }
   ],
   "source": [
    "test1 = 5\n",
    "test1 +=3\n",
    "test1"
   ]
  },
  {
   "cell_type": "code",
   "execution_count": 47,
   "id": "aed1810b-4aa8-47e8-8edf-d7a2cda330fa",
   "metadata": {},
   "outputs": [],
   "source": [
    "test1 %=3 # test1 = test1 % 3 "
   ]
  },
  {
   "cell_type": "code",
   "execution_count": 48,
   "id": "002c0c1a-2b5f-4bab-97ab-935294017cd5",
   "metadata": {},
   "outputs": [
    {
     "data": {
      "text/plain": [
       "2"
      ]
     },
     "execution_count": 48,
     "metadata": {},
     "output_type": "execute_result"
    }
   ],
   "source": [
    "test1"
   ]
  },
  {
   "cell_type": "code",
   "execution_count": 49,
   "id": "f85c0cb7-f37f-4d5c-8ddd-f3628f70eb1b",
   "metadata": {},
   "outputs": [
    {
     "name": "stdout",
     "output_type": "stream",
     "text": [
      "5 5 5\n"
     ]
    }
   ],
   "source": [
    "a = b = c= 5\n",
    "print(a,b,c)"
   ]
  },
  {
   "cell_type": "code",
   "execution_count": 50,
   "id": "66667a2b-c336-41d4-8a65-34fe0b4aa428",
   "metadata": {},
   "outputs": [
    {
     "name": "stdout",
     "output_type": "stream",
     "text": [
      "3 4\n"
     ]
    }
   ],
   "source": [
    "a, b =3, 4\n",
    "print(a,b)"
   ]
  },
  {
   "cell_type": "code",
   "execution_count": 51,
   "id": "d79b852c-c952-4301-a516-b6a46b34c93d",
   "metadata": {},
   "outputs": [],
   "source": [
    "x,y,z = 3, 4, 5"
   ]
  },
  {
   "cell_type": "code",
   "execution_count": 55,
   "id": "80880cc5-a3bb-4064-8cba-ef20d5371b8e",
   "metadata": {},
   "outputs": [
    {
     "name": "stdout",
     "output_type": "stream",
     "text": [
      "4 3\n"
     ]
    }
   ],
   "source": [
    "a, b = 3,4\n",
    "temp = a\n",
    "a = b\n",
    "b = temp \n",
    "print(a,b)\n"
   ]
  },
  {
   "cell_type": "code",
   "execution_count": 56,
   "id": "21fce9cf-818b-4c3e-8a22-a54bdec8151c",
   "metadata": {},
   "outputs": [
    {
     "name": "stdout",
     "output_type": "stream",
     "text": [
      "3 4\n"
     ]
    }
   ],
   "source": [
    "a, b = b, a\n",
    "print(a,b)"
   ]
  },
  {
   "cell_type": "code",
   "execution_count": 57,
   "id": "0a569606-7fa5-4a12-af9d-138eeb9af8b7",
   "metadata": {},
   "outputs": [
    {
     "data": {
      "text/plain": [
       "(3, 1)"
      ]
     },
     "execution_count": 57,
     "metadata": {},
     "output_type": "execute_result"
    }
   ],
   "source": [
    "divmod(10,3)"
   ]
  },
  {
   "cell_type": "code",
   "execution_count": 58,
   "id": "693c4016-6c5c-44ba-9f8a-e3961cd86966",
   "metadata": {},
   "outputs": [
    {
     "name": "stdin",
     "output_type": "stream",
     "text": [
      "이름을 입력하세요: 예은\n"
     ]
    }
   ],
   "source": [
    "name = input('이름을 입력하세요:')\n",
    "print( 'hello', name,'님!')"
   ]
  },
  {
   "cell_type": "code",
   "execution_count": null,
   "id": "c0b4e498-826a-4411-a123-9aaf318d493c",
   "metadata": {},
   "outputs": [],
   "source": [
    "name = input('이름을 입력하세요:')\n",
    "print( 'hello', name,'님!')\n"
   ]
  },
  {
   "cell_type": "code",
   "execution_count": null,
   "id": "6335a9cb-0bda-4aa2-9ef8-bc667c8a64db",
   "metadata": {},
   "outputs": [],
   "source": [
    "type(name)"
   ]
  },
  {
   "cell_type": "code",
   "execution_count": null,
   "id": "2d992ff1-6ca5-4968-9a0f-8d1ec42aa680",
   "metadata": {},
   "outputs": [],
   "source": []
  }
 ],
 "metadata": {
  "kernelspec": {
   "display_name": "Python 3 (ipykernel)",
   "language": "python",
   "name": "python3"
  },
  "language_info": {
   "codemirror_mode": {
    "name": "ipython",
    "version": 3
   },
   "file_extension": ".py",
   "mimetype": "text/x-python",
   "name": "python",
   "nbconvert_exporter": "python",
   "pygments_lexer": "ipython3",
   "version": "3.9.7"
  }
 },
 "nbformat": 4,
 "nbformat_minor": 5
}
