{
 "cells": [
  {
   "cell_type": "code",
   "execution_count": 4,
   "id": "7bc32609-12b1-4bef-a584-cfe29b5314fc",
   "metadata": {},
   "outputs": [
    {
     "name": "stdout",
     "output_type": "stream",
     "text": [
      "012345\n",
      "python\n"
     ]
    }
   ],
   "source": [
    "test = 'python'\n",
    "print('012345')\n",
    "print(test)"
   ]
  },
  {
   "cell_type": "code",
   "execution_count": 2,
   "id": "5f72a146-1ccf-43e7-a082-a2a7e317d95c",
   "metadata": {},
   "outputs": [
    {
     "data": {
      "text/plain": [
       "'p'"
      ]
     },
     "execution_count": 2,
     "metadata": {},
     "output_type": "execute_result"
    }
   ],
   "source": [
    "test[0]\n"
   ]
  },
  {
   "cell_type": "code",
   "execution_count": 3,
   "id": "bf02d8be-fc16-493f-8deb-bac153b756e6",
   "metadata": {},
   "outputs": [
    {
     "data": {
      "text/plain": [
       "'t'"
      ]
     },
     "execution_count": 3,
     "metadata": {},
     "output_type": "execute_result"
    }
   ],
   "source": [
    "test[-4]"
   ]
  },
  {
   "cell_type": "code",
   "execution_count": 5,
   "id": "05f9e1fe-fba8-4978-bbb6-485d70976180",
   "metadata": {},
   "outputs": [
    {
     "data": {
      "text/plain": [
       "'yth'"
      ]
     },
     "execution_count": 5,
     "metadata": {},
     "output_type": "execute_result"
    }
   ],
   "source": [
    "test[1:4]"
   ]
  },
  {
   "cell_type": "code",
   "execution_count": 6,
   "id": "75f451f1-7d18-4284-8e57-2498f01dbdd9",
   "metadata": {},
   "outputs": [
    {
     "data": {
      "text/plain": [
       "'pyth'"
      ]
     },
     "execution_count": 6,
     "metadata": {},
     "output_type": "execute_result"
    }
   ],
   "source": [
    "test[-6:-2] # -6,-5,-4,-3"
   ]
  },
  {
   "cell_type": "code",
   "execution_count": 8,
   "id": "92735800-4ace-499d-8d61-cf86cc5c8943",
   "metadata": {},
   "outputs": [
    {
     "data": {
      "text/plain": [
       "'ohty'"
      ]
     },
     "execution_count": 8,
     "metadata": {},
     "output_type": "execute_result"
    }
   ],
   "source": [
    "test[-2:-6:-1]"
   ]
  },
  {
   "cell_type": "code",
   "execution_count": 9,
   "id": "c4d5e634-781f-4959-ba44-bcaf1c7baabe",
   "metadata": {},
   "outputs": [
    {
     "data": {
      "text/plain": [
       "'pto'"
      ]
     },
     "execution_count": 9,
     "metadata": {},
     "output_type": "execute_result"
    }
   ],
   "source": [
    "test[::2]"
   ]
  },
  {
   "cell_type": "code",
   "execution_count": 11,
   "id": "9d016b40-ba13-4a7b-ae7b-6d28d76c5171",
   "metadata": {},
   "outputs": [
    {
     "data": {
      "text/plain": [
       "'ph'"
      ]
     },
     "execution_count": 11,
     "metadata": {},
     "output_type": "execute_result"
    }
   ],
   "source": [
    "test[::3]"
   ]
  },
  {
   "cell_type": "code",
   "execution_count": 12,
   "id": "80373084-e8a0-4684-b934-4bdc88a92336",
   "metadata": {},
   "outputs": [
    {
     "data": {
      "text/plain": [
       "'n'"
      ]
     },
     "execution_count": 12,
     "metadata": {},
     "output_type": "execute_result"
    }
   ],
   "source": [
    "test[-1]"
   ]
  },
  {
   "cell_type": "code",
   "execution_count": 13,
   "id": "c0e6e2d1-e11f-4173-9b32-fd20cdc6cf8e",
   "metadata": {},
   "outputs": [
    {
     "data": {
      "text/plain": [
       "65"
      ]
     },
     "execution_count": 13,
     "metadata": {},
     "output_type": "execute_result"
    }
   ],
   "source": [
    "ord('A')"
   ]
  },
  {
   "cell_type": "code",
   "execution_count": 14,
   "id": "d3d427a8-1679-4596-89cd-cce5b443f22c",
   "metadata": {},
   "outputs": [
    {
     "data": {
      "text/plain": [
       "44032"
      ]
     },
     "execution_count": 14,
     "metadata": {},
     "output_type": "execute_result"
    }
   ],
   "source": [
    "ord('가')"
   ]
  },
  {
   "cell_type": "code",
   "execution_count": 17,
   "id": "ad93bd5d-b25d-4068-b9fe-bdc8c28876df",
   "metadata": {},
   "outputs": [
    {
     "data": {
      "text/plain": [
       "'あ'"
      ]
     },
     "execution_count": 17,
     "metadata": {},
     "output_type": "execute_result"
    }
   ],
   "source": [
    "chr(12354)"
   ]
  },
  {
   "cell_type": "raw",
   "id": "23dd15c2-5859-46e9-a5e0-e0982dc70a14",
   "metadata": {},
   "source": []
  },
  {
   "cell_type": "code",
   "execution_count": 18,
   "id": "e5064d50-7683-4565-8be7-99b3073b33b2",
   "metadata": {},
   "outputs": [
    {
     "data": {
      "text/plain": [
       "'A'"
      ]
     },
     "execution_count": 18,
     "metadata": {},
     "output_type": "execute_result"
    }
   ],
   "source": [
    "chr(65)"
   ]
  },
  {
   "cell_type": "code",
   "execution_count": 24,
   "id": "0c988560-5345-4d4d-a37d-38a618bf147c",
   "metadata": {},
   "outputs": [
    {
     "name": "stdout",
     "output_type": "stream",
     "text": [
      "백슬래시 출력: \\\\ \n",
      " 줄바꿈 :\\n 탭: \t \" ' 탭!\n"
     ]
    }
   ],
   "source": [
    "print('백슬래시 출력: \\\\\\\\ \\n 줄바꿈 :\\\\n 탭: \\t \\\" \\' 탭!')"
   ]
  },
  {
   "cell_type": "code",
   "execution_count": 25,
   "id": "cee75799-e47f-4ced-a4ab-80915a375945",
   "metadata": {},
   "outputs": [],
   "source": [
    "test = '사과는 맛있는 과일입니다.'"
   ]
  },
  {
   "cell_type": "code",
   "execution_count": 26,
   "id": "81d6cfcd-85dc-4c10-870b-4bdda6abcb63",
   "metadata": {},
   "outputs": [
    {
     "data": {
      "text/plain": [
       "'사과는 맛있는 과일입니다.'"
      ]
     },
     "execution_count": 26,
     "metadata": {},
     "output_type": "execute_result"
    }
   ],
   "source": [
    "test"
   ]
  },
  {
   "cell_type": "code",
   "execution_count": 27,
   "id": "f367265b-5619-47fb-9e38-73e8f49776c8",
   "metadata": {},
   "outputs": [
    {
     "data": {
      "text/plain": [
       "'망고는 맛있는 과일입니다.'"
      ]
     },
     "execution_count": 27,
     "metadata": {},
     "output_type": "execute_result"
    }
   ],
   "source": [
    "#print(test)\n",
    "test.replace('사과', '망고')"
   ]
  },
  {
   "cell_type": "code",
   "execution_count": 28,
   "id": "0507ee5d-4b28-4301-865a-80e7771cf704",
   "metadata": {},
   "outputs": [
    {
     "name": "stdin",
     "output_type": "stream",
     "text": [
      "실수 5자리 (세자리.두자리)를 입력하세요: 232 36\n"
     ]
    }
   ],
   "source": [
    "value = input('실수 5자리 (세자리.두자리)를 입력하세요:')\n",
    "\n",
    "value = value.replace('.', '')"
   ]
  },
  {
   "cell_type": "code",
   "execution_count": 29,
   "id": "8cf64da1-43d5-4dbf-b3c7-bbbd36a99a5e",
   "metadata": {},
   "outputs": [
    {
     "name": "stdin",
     "output_type": "stream",
     "text": [
      "실수 5자리 (세자리.두자리)를 입력하세요: 123 45\n"
     ]
    }
   ],
   "source": [
    "value = input('실수 5자리 (세자리.두자리)를 입력하세요:')\n",
    "\n",
    "value = value.replace('.', '')"
   ]
  },
  {
   "cell_type": "code",
   "execution_count": 31,
   "id": "5c7ed210-959b-4af5-a49b-a5aac10b8fc6",
   "metadata": {},
   "outputs": [
    {
     "name": "stdin",
     "output_type": "stream",
     "text": [
      "실수 5자리 (세자리.두자리)를 입력하세요: 123.45\n"
     ]
    },
    {
     "name": "stdout",
     "output_type": "stream",
     "text": [
      "15\n"
     ]
    }
   ],
   "source": [
    " value = input('실수 5자리 (세자리.두자리)를 입력하세요:')\n",
    "\n",
    "value = value.replace('.', '')\n",
    "sum = 0\n",
    "sum += int(value[0])\n",
    "sum += int(value[1])\n",
    "sum += int(value[2])\n",
    "sum += int(value[3])\n",
    "sum += int(value[4])\n",
    "\n",
    "\n",
    "print(sum)"
   ]
  },
  {
   "cell_type": "code",
   "execution_count": 32,
   "id": "429ea5e7-14da-44f6-84ab-7236382d4517",
   "metadata": {},
   "outputs": [
    {
     "data": {
      "text/plain": [
       "2"
      ]
     },
     "execution_count": 32,
     "metadata": {},
     "output_type": "execute_result"
    }
   ],
   "source": [
    "test.count('는')\n"
   ]
  },
  {
   "cell_type": "code",
   "execution_count": 33,
   "id": "78525164-1cda-438b-bb92-a802279192a0",
   "metadata": {},
   "outputs": [
    {
     "data": {
      "text/plain": [
       "'1->2->3->4->5'"
      ]
     },
     "execution_count": 33,
     "metadata": {},
     "output_type": "execute_result"
    }
   ],
   "source": [
    "'->'.join('12345')"
   ]
  },
  {
   "cell_type": "code",
   "execution_count": 35,
   "id": "0d201ea9-cc81-4b4d-9bdd-c9930ac260ae",
   "metadata": {},
   "outputs": [
    {
     "data": {
      "text/plain": [
       "'사과---망고'"
      ]
     },
     "execution_count": 35,
     "metadata": {},
     "output_type": "execute_result"
    }
   ],
   "source": [
    "a= '사과'\n",
    "b= '망고'\n",
    "\n",
    "'---'.join((a,b))"
   ]
  },
  {
   "cell_type": "code",
   "execution_count": 36,
   "id": "955af369-3ce8-4bc7-b2f5-cb276c355fb3",
   "metadata": {},
   "outputs": [
    {
     "data": {
      "text/plain": [
       "2"
      ]
     },
     "execution_count": 36,
     "metadata": {},
     "output_type": "execute_result"
    }
   ],
   "source": [
    "test = '애플망고는 너무 맛있어요'\n",
    "test.index('망고')"
   ]
  },
  {
   "cell_type": "code",
   "execution_count": 37,
   "id": "fdf625c7-b668-432c-94ee-5b85b360b730",
   "metadata": {},
   "outputs": [
    {
     "data": {
      "text/plain": [
       "-1"
      ]
     },
     "execution_count": 37,
     "metadata": {},
     "output_type": "execute_result"
    }
   ],
   "source": [
    "test.find('ㅁ맹고')"
   ]
  },
  {
   "cell_type": "code",
   "execution_count": 38,
   "id": "6c5cddfd-f6a8-4ed8-951b-9c33a70e6b8d",
   "metadata": {},
   "outputs": [
    {
     "ename": "ValueError",
     "evalue": "substring not found",
     "output_type": "error",
     "traceback": [
      "\u001b[1;31m---------------------------------------------------------------------------\u001b[0m",
      "\u001b[1;31mValueError\u001b[0m                                Traceback (most recent call last)",
      "\u001b[1;32m~\\AppData\\Local\\Temp/ipykernel_12344/1218539431.py\u001b[0m in \u001b[0;36m<module>\u001b[1;34m\u001b[0m\n\u001b[1;32m----> 1\u001b[1;33m \u001b[0mtest\u001b[0m\u001b[1;33m.\u001b[0m\u001b[0mindex\u001b[0m\u001b[1;33m(\u001b[0m\u001b[1;34m'맹고'\u001b[0m\u001b[1;33m)\u001b[0m\u001b[1;33m\u001b[0m\u001b[1;33m\u001b[0m\u001b[0m\n\u001b[0m",
      "\u001b[1;31mValueError\u001b[0m: substring not found"
     ]
    }
   ],
   "source": [
    "test.index('맹고')\n"
   ]
  },
  {
   "cell_type": "code",
   "execution_count": 39,
   "id": "1dc056aa-e91d-4d9c-aa50-e76bc53f25b5",
   "metadata": {},
   "outputs": [
    {
     "data": {
      "text/plain": [
       "['애플망고는', '너무', '맛있어요']"
      ]
     },
     "execution_count": 39,
     "metadata": {},
     "output_type": "execute_result"
    }
   ],
   "source": [
    "test.split()"
   ]
  },
  {
   "cell_type": "code",
   "execution_count": 40,
   "id": "4569b134-a686-4ddd-bdbd-15c3288e0444",
   "metadata": {},
   "outputs": [
    {
     "data": {
      "text/plain": [
       "['애플망고는', '너무', '맛있어요']"
      ]
     },
     "execution_count": 40,
     "metadata": {},
     "output_type": "execute_result"
    }
   ],
   "source": [
    "list(test.split())"
   ]
  },
  {
   "cell_type": "code",
   "execution_count": 42,
   "id": "0e42d9e2-6276-44a1-af18-ae2d4a4f4e1a",
   "metadata": {},
   "outputs": [
    {
     "data": {
      "text/plain": [
       "'애'"
      ]
     },
     "execution_count": 42,
     "metadata": {},
     "output_type": "execute_result"
    }
   ],
   "source": [
    "test.split()[0][0]"
   ]
  },
  {
   "cell_type": "code",
   "execution_count": 43,
   "id": "23cee785-55ab-447f-ac8b-acab3d39974e",
   "metadata": {},
   "outputs": [
    {
     "data": {
      "text/plain": [
       "'이렇게 빈칸이 생기면 없앨 필요가 있겠죠'"
      ]
     },
     "execution_count": 43,
     "metadata": {},
     "output_type": "execute_result"
    }
   ],
   "source": [
    "'   이렇게 빈칸이 생기면 없앨 필요가 있겠죠?     '.strip(' ?')"
   ]
  },
  {
   "cell_type": "code",
   "execution_count": 47,
   "id": "0de12918-17ea-433f-9728-0f782c3eec53",
   "metadata": {},
   "outputs": [
    {
     "name": "stdout",
     "output_type": "stream",
     "text": [
      "10 + 4.00 = 14\n"
     ]
    }
   ],
   "source": [
    "a = 10\n",
    "b = 4\n",
    "\n",
    "\n",
    "print('{} + {:3.2f} = {}'.format(a, b, a+b))"
   ]
  },
  {
   "cell_type": "code",
   "execution_count": 50,
   "id": "10438dc1-5f95-4981-9d0e-7768df7072a9",
   "metadata": {},
   "outputs": [
    {
     "name": "stdout",
     "output_type": "stream",
     "text": [
      "10+4.00 = 14\n"
     ]
    }
   ],
   "source": [
    "print(f'{a}+{b:3.2f} = {a+b}')"
   ]
  },
  {
   "cell_type": "code",
   "execution_count": 51,
   "id": "c1f5b8cd-c052-467b-b97a-f4e15cea92a5",
   "metadata": {},
   "outputs": [
    {
     "data": {
      "text/plain": [
       "(True, False)"
      ]
     },
     "execution_count": 51,
     "metadata": {},
     "output_type": "execute_result"
    }
   ],
   "source": [
    "True, False"
   ]
  },
  {
   "cell_type": "code",
   "execution_count": 52,
   "id": "65bdb4c3-a449-46e4-94dc-d89410050903",
   "metadata": {},
   "outputs": [
    {
     "data": {
      "text/plain": [
       "bool"
      ]
     },
     "execution_count": 52,
     "metadata": {},
     "output_type": "execute_result"
    }
   ],
   "source": [
    "type(True)"
   ]
  },
  {
   "cell_type": "code",
   "execution_count": 54,
   "id": "cf502f5a-8e08-4fdd-8943-95681bdf25ba",
   "metadata": {},
   "outputs": [
    {
     "data": {
      "text/plain": [
       "False"
      ]
     },
     "execution_count": 54,
     "metadata": {},
     "output_type": "execute_result"
    }
   ],
   "source": [
    "True and False"
   ]
  },
  {
   "cell_type": "code",
   "execution_count": 56,
   "id": "8c5875a2-31cc-44aa-9df7-affa7a518114",
   "metadata": {},
   "outputs": [
    {
     "data": {
      "text/plain": [
       "True"
      ]
     },
     "execution_count": 56,
     "metadata": {},
     "output_type": "execute_result"
    }
   ],
   "source": [
    "True and True"
   ]
  },
  {
   "cell_type": "code",
   "execution_count": 57,
   "id": "219e7e71-0585-4adb-b513-170b1dbc6b5a",
   "metadata": {},
   "outputs": [
    {
     "data": {
      "text/plain": [
       "False"
      ]
     },
     "execution_count": 57,
     "metadata": {},
     "output_type": "execute_result"
    }
   ],
   "source": [
    "not True"
   ]
  },
  {
   "cell_type": "code",
   "execution_count": 58,
   "id": "61e5cf59-1de2-4a30-9037-7af9191b7b35",
   "metadata": {},
   "outputs": [
    {
     "data": {
      "text/plain": [
       "True"
      ]
     },
     "execution_count": 58,
     "metadata": {},
     "output_type": "execute_result"
    }
   ],
   "source": [
    "not False"
   ]
  },
  {
   "cell_type": "code",
   "execution_count": 59,
   "id": "f6b70146-e88a-450e-8e71-1587e77e7609",
   "metadata": {},
   "outputs": [
    {
     "data": {
      "text/plain": [
       "True"
      ]
     },
     "execution_count": 59,
     "metadata": {},
     "output_type": "execute_result"
    }
   ],
   "source": [
    "#XOR\n",
    "\n",
    "True ^ False"
   ]
  },
  {
   "cell_type": "code",
   "execution_count": 60,
   "id": "4eb1f01f-0d13-474c-b555-501cd74967c4",
   "metadata": {},
   "outputs": [
    {
     "data": {
      "text/plain": [
       "False"
      ]
     },
     "execution_count": 60,
     "metadata": {},
     "output_type": "execute_result"
    }
   ],
   "source": [
    "True ^ True"
   ]
  },
  {
   "cell_type": "code",
   "execution_count": 61,
   "id": "74f3b9df-a53b-4f9a-aad6-858e88a66069",
   "metadata": {},
   "outputs": [
    {
     "data": {
      "text/plain": [
       "False"
      ]
     },
     "execution_count": 61,
     "metadata": {},
     "output_type": "execute_result"
    }
   ],
   "source": [
    "False^False"
   ]
  },
  {
   "cell_type": "code",
   "execution_count": 64,
   "id": "20bf9ae7-42b0-43cd-bbbb-8e6fd8860455",
   "metadata": {},
   "outputs": [
    {
     "name": "stdin",
     "output_type": "stream",
     "text": [
      "키(cm)와 몸무게(kg)를 입력하세요 >> 169 58\n"
     ]
    },
    {
     "name": "stdout",
     "output_type": "stream",
     "text": [
      "정상, True\n"
     ]
    }
   ],
   "source": [
    "h, w = input('키(cm)와 몸무게(kg)를 입력하세요 >>').split()\n",
    "h = float(h)\n",
    "w = float(w)\n",
    "\n",
    "\n",
    "bmi= w/ (h/100)**2\n",
    "print(f'정상, {18.5<=bmi<25}')"
   ]
  },
  {
   "cell_type": "code",
   "execution_count": 65,
   "id": "38a3ac1a-a44a-409a-bb51-6c1ba4f9a8d2",
   "metadata": {},
   "outputs": [
    {
     "data": {
      "text/plain": [
       "True"
      ]
     },
     "execution_count": 65,
     "metadata": {},
     "output_type": "execute_result"
    }
   ],
   "source": [
    "#in not in\n",
    "test = '123456890'\n",
    "\n",
    "'4' in test\n"
   ]
  },
  {
   "cell_type": "code",
   "execution_count": 66,
   "id": "c5736035-2f44-48a2-91cb-b6b946256a1b",
   "metadata": {},
   "outputs": [
    {
     "data": {
      "text/plain": [
       "True"
      ]
     },
     "execution_count": 66,
     "metadata": {},
     "output_type": "execute_result"
    }
   ],
   "source": [
    "\n",
    "\n",
    "'7' in test"
   ]
  },
  {
   "cell_type": "code",
   "execution_count": null,
   "id": "71207698-ac01-4bbd-9acf-9333e4e47b12",
   "metadata": {},
   "outputs": [],
   "source": []
  }
 ],
 "metadata": {
  "kernelspec": {
   "display_name": "Python 3 (ipykernel)",
   "language": "python",
   "name": "python3"
  },
  "language_info": {
   "codemirror_mode": {
    "name": "ipython",
    "version": 3
   },
   "file_extension": ".py",
   "mimetype": "text/x-python",
   "name": "python",
   "nbconvert_exporter": "python",
   "pygments_lexer": "ipython3",
   "version": "3.9.7"
  }
 },
 "nbformat": 4,
 "nbformat_minor": 5
}
